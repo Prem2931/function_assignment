{
 "cells": [
  {
   "cell_type": "code",
   "execution_count": null,
   "id": "33716ce7-b20e-43eb-a9b7-13f546d3f150",
   "metadata": {},
   "outputs": [],
   "source": [
    "# Q1. What is the difference between a function and a method in Python?\n",
    "\n",
    "# Ans: Answers is give below-->"
   ]
  },
  {
   "cell_type": "code",
   "execution_count": 1,
   "id": "88e210b8-7d9e-4f50-8883-14fe869c563b",
   "metadata": {},
   "outputs": [
    {
     "name": "stdout",
     "output_type": "stream",
     "text": [
      "Hello, World!\n"
     ]
    }
   ],
   "source": [
    "# Function: A block of code that performs a specific task, defined using the def keyword. It can be called independently.\n",
    "\n",
    "# Ex->\n",
    "def greet():\n",
    "    print(\"Hello, World!\")\n",
    "greet()\n"
   ]
  },
  {
   "cell_type": "code",
   "execution_count": 3,
   "id": "ed842ba5-c5d8-4e71-a019-2799b6bba3be",
   "metadata": {},
   "outputs": [
    {
     "name": "stdout",
     "output_type": "stream",
     "text": [
      "Hello, duniya!\n"
     ]
    }
   ],
   "source": [
    "# Method: A function that is associated with an object and can operate on data within the object. It is defined within a class.\n",
    "\n",
    "# Ex->\n",
    "class Person:\n",
    "    def __init__(self, name):\n",
    "        self.name = name\n",
    "\n",
    "    def greet(self):\n",
    "        print(f\"Hello, {self.name}!\")\n",
    "person = Person(\"duniya\")\n",
    "person.greet()\n"
   ]
  },
  {
   "cell_type": "code",
   "execution_count": null,
   "id": "b39717c0-14e9-4194-bfb4-347643fff70e",
   "metadata": {},
   "outputs": [],
   "source": [
    "# Q2. Explain the concept of function arguments and parameters in Python.\n",
    "\n",
    "# Ans: Answers is give below-->"
   ]
  },
  {
   "cell_type": "code",
   "execution_count": 4,
   "id": "42441d91-4516-4044-a99c-97b48cad9cb4",
   "metadata": {},
   "outputs": [],
   "source": [
    "# Parameters: Variables listed inside the parentheses in the function definition.\n",
    "\n",
    "# Ex->\n",
    "def add(a, b):  # a and b are parameters\n",
    "    return a + b\n"
   ]
  },
  {
   "cell_type": "code",
   "execution_count": 5,
   "id": "e7d24eb4-b004-4a64-a2c7-052a850bd2bc",
   "metadata": {},
   "outputs": [
    {
     "name": "stdout",
     "output_type": "stream",
     "text": [
      "18\n"
     ]
    }
   ],
   "source": [
    "# Arguments: Values passed to the function when it is called.\n",
    "\n",
    "# Ex->\n",
    "result = add(10, 8)  # 2 and 3 are arguments\n",
    "print(result)"
   ]
  },
  {
   "cell_type": "code",
   "execution_count": null,
   "id": "148d36e3-524f-44b4-99bf-247db9aea027",
   "metadata": {},
   "outputs": [],
   "source": [
    "# Q3. What are the different ways to define and call a function in Python?\n",
    "\n",
    "# Ans: Answers is give below-->"
   ]
  },
  {
   "cell_type": "code",
   "execution_count": 6,
   "id": "8528cd3e-1411-4f4f-a40d-4f4d0745dfe7",
   "metadata": {},
   "outputs": [
    {
     "name": "stdout",
     "output_type": "stream",
     "text": [
      "Hello, Bro!\n"
     ]
    }
   ],
   "source": [
    "# i. Standard Function Definition-->\n",
    "\n",
    "# Definition:\n",
    "# Using the def keyword.\n",
    "\n",
    "# define\n",
    "def greet(name):\n",
    "    return f\"Hello, {name}!\"\n",
    "\n",
    "# Call:\n",
    "# Directly calling the function with arguments.\n",
    "message = greet(\"Bro\")\n",
    "print(message) "
   ]
  },
  {
   "cell_type": "code",
   "execution_count": 7,
   "id": "2d838a80-d355-45c5-8fe9-5d6c7082feb6",
   "metadata": {},
   "outputs": [
    {
     "name": "stdout",
     "output_type": "stream",
     "text": [
      "18\n"
     ]
    }
   ],
   "source": [
    "# ii. Lambda Function\n",
    "# Definition:\n",
    "# Using the lambda keyword for creating small anonymous functions.\n",
    "\n",
    "# define\n",
    "add = lambda x, y: x + y\n",
    "\n",
    "# Call:\n",
    "# Calling the lambda function like a regular function.\n",
    "result = add(10, 8)\n",
    "print(result) "
   ]
  },
  {
   "cell_type": "code",
   "execution_count": 8,
   "id": "382e3aac-7c15-4cb3-be46-1a7fa6508e86",
   "metadata": {},
   "outputs": [
    {
     "name": "stdout",
     "output_type": "stream",
     "text": [
      "[1, 4, 9, 16]\n"
     ]
    }
   ],
   "source": [
    "# iii. Map Function\n",
    "# Definition: \n",
    "# The map function applies a given function to all items in an input iterable (like a list) and returns an iterator with the results.\n",
    "\n",
    "# define\n",
    "numbers = [1, 2, 3, 4]\n",
    "squared = map(lambda x: x*x, numbers)\n",
    "\n",
    "# call:\n",
    "print(list(squared))\n",
    "\n"
   ]
  },
  {
   "cell_type": "code",
   "execution_count": 9,
   "id": "0e6e182f-9a84-42a0-accb-948800b9914a",
   "metadata": {},
   "outputs": [
    {
     "name": "stdout",
     "output_type": "stream",
     "text": [
      "10\n"
     ]
    }
   ],
   "source": [
    "# iv. Reduce Functions:\n",
    "# Definition: \n",
    "# The reduce function from the functools module applies a given function cumulatively to the items of a sequence, \n",
    "# from left to right, to reduce the sequence to a single value.\n",
    "\n",
    "# define\n",
    "from functools import reduce\n",
    "numbers = [1, 2, 3, 4]\n",
    "sum = reduce(lambda x, y: x+y, numbers)\n",
    "\n",
    "# call\n",
    "sum\n",
    "print(sum)\n"
   ]
  },
  {
   "cell_type": "code",
   "execution_count": 10,
   "id": "e12c8876-f416-49ff-9d59-b270469b2543",
   "metadata": {},
   "outputs": [
    {
     "name": "stdout",
     "output_type": "stream",
     "text": [
      "[2, 4]\n"
     ]
    }
   ],
   "source": [
    "# v. Filter Functions:\n",
    "# Definition: \n",
    "# The filter function constructs an iterator from elements of an iterable for which a specified function returns True.\n",
    "\n",
    "# define\n",
    "numbers = [1, 2, 3, 4]\n",
    "even = filter(lambda x: x%2==0, numbers)\n",
    "\n",
    "# call\n",
    "print(list(even))"
   ]
  },
  {
   "cell_type": "code",
   "execution_count": 11,
   "id": "c6109ed4-1ed0-4325-8814-81be348ccc11",
   "metadata": {},
   "outputs": [
    {
     "name": "stdout",
     "output_type": "stream",
     "text": [
      "18\n"
     ]
    }
   ],
   "source": [
    "# Q4.What is the purpose of the return statement in a Python function?\n",
    "\n",
    "# Ans:The return statement is used to exit a function and return a value to the caller.\n",
    "# Ex->\n",
    "def add(a, b):\n",
    "    return a + b\n",
    "result = add(9, 9)  # result is 5\n",
    "\n",
    "print(result)"
   ]
  },
  {
   "cell_type": "code",
   "execution_count": 12,
   "id": "eeaec04e-e1a2-41e2-8a90-dd439164f718",
   "metadata": {},
   "outputs": [
    {
     "name": "stdout",
     "output_type": "stream",
     "text": [
      "1\n",
      "2\n",
      "3\n"
     ]
    }
   ],
   "source": [
    "# Q5. What are iterators in Python and how do they differ from iterables?\n",
    "\n",
    "# Ans:\n",
    "# Iterators\n",
    "# Definition: An iterator is an object representing a stream of data; it returns the data one element at a time. It keeps track of its current position.\n",
    "# Characteristics:\n",
    "# Must implement both the __iter__ method (returns self) and the __next__ method (returns the next element).\n",
    "# Raises a StopIteration exception when there are no more elements.\n",
    "\n",
    "# Ex->\n",
    "my_list = [1, 2, 3]\n",
    "my_iterator = iter(my_list)  # Creating an iterator from an iterable\n",
    "print(next(my_iterator))  # Output: 1\n",
    "print(next(my_iterator))  # Output: 2\n",
    "print(next(my_iterator))  # Output: 3\n",
    "# print(next(my_iterator))  # Raises StopIteration\n"
   ]
  },
  {
   "cell_type": "code",
   "execution_count": 13,
   "id": "4f5d55e6-a91e-450c-b251-82b5b6600c1b",
   "metadata": {},
   "outputs": [
    {
     "name": "stdout",
     "output_type": "stream",
     "text": [
      "1\n",
      "2\n",
      "3\n",
      "a\n",
      "b\n",
      "c\n",
      "\n",
      "1\n",
      "2\n",
      "3\n"
     ]
    }
   ],
   "source": [
    "# Difference-->\n",
    "# Iterable: \n",
    "# i. Can be passed to the iter() function to get an iterator. \n",
    "# ii.It is a container for elements (like lists, tuples, etc.).\n",
    "# iii.Example: [1, 2, 3] is an iterable.\n",
    "\n",
    "# Example of iterable->\n",
    "my_list = [1, 2, 3]\n",
    "my_string = \"abc\"\n",
    "\n",
    "for item in my_list:\n",
    "    print(item)\n",
    "\n",
    "for item in my_string:\n",
    "    print(item)\n",
    "\n",
    "    \n",
    "print()\n",
    "# Iterator: \n",
    "# i.The object obtained by calling iter() on an iterable. \n",
    "# It is used to traverse through all the elements of an iterable.\n",
    "# ii.Example: iter([1, 2, 3]) is an iterator.\n",
    "\n",
    "# Example of iterator->\n",
    "my_list = [1, 2, 3]\n",
    "my_iterator = iter(my_list)  # Creating an iterator from an iterable\n",
    "print(next(my_iterator))  # Output: 1\n",
    "print(next(my_iterator))  # Output: 2\n",
    "print(next(my_iterator))  # Output: 3"
   ]
  },
  {
   "cell_type": "code",
   "execution_count": 14,
   "id": "d1f7f706-f368-400f-9d07-40d19bb6e121",
   "metadata": {},
   "outputs": [
    {
     "name": "stdout",
     "output_type": "stream",
     "text": [
      "1\n",
      "2\n",
      "3\n",
      "9\n"
     ]
    }
   ],
   "source": [
    "# Q6: Explain the concept of generators in Python and how they are defined.\n",
    "\n",
    "# Ans:Generators are a simple way to create iterators using a function that yields values one at a time using the yield keyword.\n",
    "\n",
    "# They are defined in by following way->\n",
    "def my_generator():\n",
    "    yield 1\n",
    "    yield 2\n",
    "    yield 3\n",
    "    yield 9\n",
    "for value in my_generator():\n",
    "    print(value)\n"
   ]
  },
  {
   "cell_type": "code",
   "execution_count": 15,
   "id": "93ade410-f919-4dae-a975-b73f6abaff90",
   "metadata": {},
   "outputs": [],
   "source": [
    "# Q7: What are the advantages of using generators over regular functions?\n",
    "\n",
    "# Ans:\n",
    "# Memory Efficiency -> Generators yield items one at a time and only when required, which saves memory.\n",
    "# Lazy Evaluation -> Values are generated on-the-fly, allowing for potentially infinite sequences.\n",
    "# Improved Performance -> Generators can be faster than functions that return lists, especially for large datasets."
   ]
  },
  {
   "cell_type": "code",
   "execution_count": 16,
   "id": "3b83b2fa-8d95-4e0a-b98f-4d7e62e9d495",
   "metadata": {},
   "outputs": [
    {
     "name": "stdout",
     "output_type": "stream",
     "text": [
      "0\n",
      "1\n",
      "4\n",
      "9\n",
      "16\n",
      "25\n",
      "36\n",
      "49\n",
      "64\n",
      "81\n",
      "\n",
      "\n",
      "0\n",
      "1\n",
      "4\n",
      "9\n",
      "16\n",
      "25\n",
      "36\n",
      "49\n",
      "64\n",
      "81\n"
     ]
    }
   ],
   "source": [
    "# Code->\n",
    "# Regular function->\n",
    "def regular_function():\n",
    "    return [i**2 for i in range(10)]  # Creates the entire list at once\n",
    "\n",
    "result = regular_function()\n",
    "for value in result:\n",
    "    print(value)\n",
    "print(\"\\n\")\n",
    "\n",
    "# Generator function\n",
    "def generator_function():\n",
    "    for i in range(10):\n",
    "        yield i**2  # Computes each value when needed\n",
    "\n",
    "gen = generator_function()\n",
    "for value in gen:\n",
    "    print(value)\n",
    "\n",
    "\n"
   ]
  },
  {
   "cell_type": "code",
   "execution_count": 17,
   "id": "267ac2aa-7e25-4792-9954-b2f0e576f46d",
   "metadata": {},
   "outputs": [
    {
     "name": "stdout",
     "output_type": "stream",
     "text": [
      "5\n"
     ]
    }
   ],
   "source": [
    "# Q8: What is a lambda function in Python and when is it typically used?\n",
    "\n",
    "# Ans:\n",
    "# A lambda function is an anonymous function defined with the lambda keyword. \n",
    "# It can have any number of arguments but only one expression.\n",
    "\n",
    "# Code->\n",
    "add = lambda x, y: x + y\n",
    "print(add(2, 3))  # 5\n"
   ]
  },
  {
   "cell_type": "code",
   "execution_count": 18,
   "id": "5d1761dc-78c2-41da-b284-b1e28871af56",
   "metadata": {},
   "outputs": [
    {
     "name": "stdout",
     "output_type": "stream",
     "text": [
      "[1, 4, 9, 16]\n"
     ]
    }
   ],
   "source": [
    "# Q9: Explain the purpose and usage of the map() function in Python.\n",
    "\n",
    "# Ans: Definition: The map function applies a given function to all items in an input iterable (like a list) and returns an iterator with the results.\n",
    "\n",
    "# Key Points:\n",
    "\n",
    "#   Transformation: Used to transform each item in an iterable by applying the specified function.\n",
    "\n",
    "# Syntax->\n",
    "# map(function, iterable)\n",
    "\n",
    "# usage or code->\n",
    "def square(x):\n",
    "    return x * x\n",
    "numbers = [1, 2, 3, 4]\n",
    "squared_numbers = map(square, numbers)\n",
    "print(list(squared_numbers))  # [1, 4, 9, 16]"
   ]
  },
  {
   "cell_type": "code",
   "execution_count": 19,
   "id": "c474662a-7718-410f-9e76-6f9fb8bba529",
   "metadata": {},
   "outputs": [],
   "source": [
    "# Q10: What is the difference between map(), reduce(), and filter() functions in Python?\n",
    "\n",
    "# Ans: Difference are given below->"
   ]
  },
  {
   "cell_type": "code",
   "execution_count": 20,
   "id": "7d5093c8-d219-4dea-8bbb-08a0d1748f1d",
   "metadata": {},
   "outputs": [
    {
     "name": "stdout",
     "output_type": "stream",
     "text": [
      "[1, 4, 9]\n"
     ]
    }
   ],
   "source": [
    "# i. map(): Applies a function to all items in an iterable.\n",
    "\n",
    "# code->\n",
    "numbers = [1, 2, 3]\n",
    "squared = map(lambda x: x**2, numbers)\n",
    "print(list(squared))  # [1, 4, 9]"
   ]
  },
  {
   "cell_type": "code",
   "execution_count": 21,
   "id": "b07d19de-6cbc-477e-ae44-6e8052baa9f9",
   "metadata": {},
   "outputs": [
    {
     "name": "stdout",
     "output_type": "stream",
     "text": [
      "10\n"
     ]
    }
   ],
   "source": [
    "# ii. reduce(): Applies a function of two arguments cumulatively to the items of an iterable, reducing it to a single value (requires functools).\n",
    "\n",
    "# code->\n",
    "from functools import reduce\n",
    "numbers = [1, 2, 3, 4]\n",
    "total = reduce(lambda x, y: x + y, numbers)\n",
    "print(total)  # 10\n"
   ]
  },
  {
   "cell_type": "code",
   "execution_count": 22,
   "id": "fa234ac7-a1bc-49d5-ae29-9a9750f71032",
   "metadata": {},
   "outputs": [
    {
     "name": "stdout",
     "output_type": "stream",
     "text": [
      "[2, 4]\n"
     ]
    }
   ],
   "source": [
    "# iii. filter(): Filters items in an iterable for which a function returns true.\n",
    "\n",
    "# code->\n",
    "numbers = [1, 2, 3, 4]\n",
    "even_numbers = filter(lambda x: x % 2 == 0, numbers)\n",
    "print(list(even_numbers))  # [2, 4]"
   ]
  },
  {
   "cell_type": "code",
   "execution_count": null,
   "id": "ba207a35-c504-4338-a4da-b209745fc810",
   "metadata": {},
   "outputs": [],
   "source": []
  }
 ],
 "metadata": {
  "kernelspec": {
   "display_name": "Python 3 (ipykernel)",
   "language": "python",
   "name": "python3"
  },
  "language_info": {
   "codemirror_mode": {
    "name": "ipython",
    "version": 3
   },
   "file_extension": ".py",
   "mimetype": "text/x-python",
   "name": "python",
   "nbconvert_exporter": "python",
   "pygments_lexer": "ipython3",
   "version": "3.10.8"
  }
 },
 "nbformat": 4,
 "nbformat_minor": 5
}
