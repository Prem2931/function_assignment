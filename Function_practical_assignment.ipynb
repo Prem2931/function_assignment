{
 "cells": [
  {
   "cell_type": "code",
   "execution_count": 1,
   "id": "a18711e3-c016-4a25-a7a4-a2be8732fde6",
   "metadata": {},
   "outputs": [
    {
     "name": "stdin",
     "output_type": "stream",
     "text": [
      "Enter the no of elemtns in list:  5\n",
      "Enter the elments:  1\n",
      "Enter the elments:  2\n",
      "Enter the elments:  3\n",
      "Enter the elments:  4\n",
      "Enter the elments:  5\n"
     ]
    },
    {
     "name": "stdout",
     "output_type": "stream",
     "text": [
      "The list is:  [1, 2, 3, 4, 5]\n",
      "Sum of even nos in the list:  6\n"
     ]
    }
   ],
   "source": [
    "# Q1:  Write a Python function that takes a list of numbers as input and returns the sum of all even numbers in\n",
    "#      the list.\n",
    "\n",
    "# code->\n",
    "\n",
    "# Function to give sum of even nos in list\n",
    "def Sum(numbers):\n",
    "    even_sum = 0\n",
    "    for num in numbers:\n",
    "        if(num % 2 == 0):\n",
    "            even_sum += num\n",
    "    return even_sum\n",
    "\n",
    "# Taking user input for list\n",
    "l = []\n",
    "n = int(input(\"Enter the no of elemtns in list: \"))\n",
    "for i in range(0, n):\n",
    "    element = int(input(\"Enter the elments: \"))\n",
    "    l.append(element)\n",
    "print(\"The list is: \", l)\n",
    "\n",
    "# Function call\n",
    "result = Sum(l)\n",
    "print(\"Sum of even nos in the list: \", result)"
   ]
  },
  {
   "cell_type": "code",
   "execution_count": 2,
   "id": "4e654df2-4753-4d10-9fc8-6f81cf06dbb6",
   "metadata": {},
   "outputs": [
    {
     "name": "stdin",
     "output_type": "stream",
     "text": [
      "Enter the String:  premsagar\n"
     ]
    },
    {
     "name": "stdout",
     "output_type": "stream",
     "text": [
      "Reversed String:  ragasmerp\n"
     ]
    }
   ],
   "source": [
    "# Q2. Create a Python function that accepts a string and returns the reverse of that string.\n",
    "\n",
    "# Code->\n",
    "\n",
    "# Function to reverse the inputed string\n",
    "def Rev_Str():\n",
    "    reversed_str = String[::-1]\n",
    "    return reversed_str\n",
    "\n",
    "# User input for string \n",
    "String = input(\"Enter the String: \")\n",
    "\n",
    "# Function call and printing the rev string.\n",
    "print(\"Reversed String: \",Rev_Str())\n"
   ]
  },
  {
   "cell_type": "code",
   "execution_count": 2,
   "id": "f103299f-f3e5-4658-bb0c-0cd61646a672",
   "metadata": {
    "jp-MarkdownHeadingCollapsed": true,
    "tags": []
   },
   "outputs": [
    {
     "name": "stdin",
     "output_type": "stream",
     "text": [
      "Enter the no of elemtns in list:  5\n",
      "Enter the elments:  1\n",
      "Enter the elments:  2\n",
      "Enter the elments:  3\n",
      "Enter the elments:  4\n",
      "Enter the elments:  5\n"
     ]
    },
    {
     "name": "stdout",
     "output_type": "stream",
     "text": [
      "The list is:  [1, 2, 3, 4, 5]\n",
      "The list containg square of number:  [1, 4, 9, 16, 25]\n"
     ]
    }
   ],
   "source": [
    "# Q3:  Implement a Python function that takes a list of integers and returns a new list containing the squares of\n",
    "# each number.\n",
    "\n",
    "# code->\n",
    "\n",
    "# Function that takes list of int and returns new list containg square of each no.\n",
    "def Square_List():\n",
    "    square = map(lambda x: x*x, lst)\n",
    "    return square\n",
    "    \n",
    "# Taking user input for list\n",
    "lst = []\n",
    "n = int(input(\"Enter the no of elemtns in list: \"))\n",
    "for i in range(0, n):\n",
    "    element = int(input(\"Enter the elments: \"))\n",
    "    lst.append(element)\n",
    "print(\"The list is: \", lst)\n",
    "\n",
    "# Function call and printing the result\n",
    "print(\"The list containg square of number: \",list(Square_List()))"
   ]
  },
  {
   "cell_type": "code",
   "execution_count": 3,
   "id": "690a8e02-92fe-4e63-9d4b-9f2b4b637a14",
   "metadata": {},
   "outputs": [
    {
     "name": "stdin",
     "output_type": "stream",
     "text": [
      "Enter the number:  195\n"
     ]
    },
    {
     "name": "stdout",
     "output_type": "stream",
     "text": [
      "It is not a prime number.\n"
     ]
    }
   ],
   "source": [
    "# Q4:  Write a Python function that checks if a given number is prime or not from 1 to 200.\n",
    "\n",
    "# code->\n",
    "def check_prime():\n",
    "    n = int(input(\"Enter the number: \"))\n",
    "    if n>1 and n<=200:\n",
    "        for i in range(2, n):\n",
    "            if n%i == 0:\n",
    "                print(\"It is not a prime number.\")\n",
    "                break\n",
    "        else:\n",
    "            print(\"It is a prime number\")\n",
    "    else:\n",
    "        print(\"Out of range...\")\n",
    "    \n",
    "check_prime()\n",
    "    \n",
    "    "
   ]
  },
  {
   "cell_type": "code",
   "execution_count": 4,
   "id": "9326ac49-f5d0-41bb-92ec-5f4dbcf62e7c",
   "metadata": {},
   "outputs": [],
   "source": [
    "# Q5:  Create an iterator class in Python that generates the Fibonacci sequence up to a specified number of terms\n",
    "\n",
    "# code->\n",
    "\n",
    "# Function for generating fibonacci series\n",
    "def fibonacii(n):\n",
    "    a = 0\n",
    "    b = 1\n",
    "    for i in range(n):\n",
    "        yield a\n",
    "        a, b=b, a+b\n",
    "f = fibonacii(100)"
   ]
  },
  {
   "cell_type": "code",
   "execution_count": 5,
   "id": "4c9dc959-23a9-48ff-864b-9cc40ee6b5bc",
   "metadata": {},
   "outputs": [
    {
     "data": {
      "text/plain": [
       "<generator object fibonacii at 0x7a0631999a80>"
      ]
     },
     "execution_count": 5,
     "metadata": {},
     "output_type": "execute_result"
    }
   ],
   "source": [
    "f"
   ]
  },
  {
   "cell_type": "code",
   "execution_count": 6,
   "id": "75128ea5-892f-4497-823d-d3649c6f878f",
   "metadata": {},
   "outputs": [
    {
     "data": {
      "text/plain": [
       "0"
      ]
     },
     "execution_count": 6,
     "metadata": {},
     "output_type": "execute_result"
    }
   ],
   "source": [
    "next(f)"
   ]
  },
  {
   "cell_type": "code",
   "execution_count": 7,
   "id": "54e45124-92b8-4b98-ad1b-3b24bde707d2",
   "metadata": {},
   "outputs": [
    {
     "data": {
      "text/plain": [
       "1"
      ]
     },
     "execution_count": 7,
     "metadata": {},
     "output_type": "execute_result"
    }
   ],
   "source": [
    "next(f)"
   ]
  },
  {
   "cell_type": "code",
   "execution_count": 8,
   "id": "1cc8b0dc-1276-483e-bdc7-c5b48b1c96aa",
   "metadata": {},
   "outputs": [
    {
     "data": {
      "text/plain": [
       "1"
      ]
     },
     "execution_count": 8,
     "metadata": {},
     "output_type": "execute_result"
    }
   ],
   "source": [
    "next(f)"
   ]
  },
  {
   "cell_type": "code",
   "execution_count": 9,
   "id": "2cbc9e4f-0a8b-4129-81ef-abe0612f5642",
   "metadata": {},
   "outputs": [
    {
     "data": {
      "text/plain": [
       "2"
      ]
     },
     "execution_count": 9,
     "metadata": {},
     "output_type": "execute_result"
    }
   ],
   "source": [
    "next(f)"
   ]
  },
  {
   "cell_type": "code",
   "execution_count": 10,
   "id": "acc167e8-ec9e-410f-a702-f0ac57c26843",
   "metadata": {},
   "outputs": [
    {
     "data": {
      "text/plain": [
       "3"
      ]
     },
     "execution_count": 10,
     "metadata": {},
     "output_type": "execute_result"
    }
   ],
   "source": [
    "next(f)"
   ]
  },
  {
   "cell_type": "code",
   "execution_count": 11,
   "id": "33faff2d-4d31-475c-abb1-ccba130febdd",
   "metadata": {},
   "outputs": [
    {
     "data": {
      "text/plain": [
       "5"
      ]
     },
     "execution_count": 11,
     "metadata": {},
     "output_type": "execute_result"
    }
   ],
   "source": [
    "next(f)"
   ]
  },
  {
   "cell_type": "code",
   "execution_count": 12,
   "id": "f715f9e6-e77c-4d5f-97b4-ef494d31f042",
   "metadata": {},
   "outputs": [
    {
     "data": {
      "text/plain": [
       "8"
      ]
     },
     "execution_count": 12,
     "metadata": {},
     "output_type": "execute_result"
    }
   ],
   "source": [
    "next(f)"
   ]
  },
  {
   "cell_type": "code",
   "execution_count": 13,
   "id": "e6145848-8e63-42fe-b26c-dcac6a2ac82d",
   "metadata": {},
   "outputs": [
    {
     "data": {
      "text/plain": [
       "13"
      ]
     },
     "execution_count": 13,
     "metadata": {},
     "output_type": "execute_result"
    }
   ],
   "source": [
    "next(f)"
   ]
  },
  {
   "cell_type": "code",
   "execution_count": 14,
   "id": "0f007213-7dd0-44c0-83a6-68d422f05cc2",
   "metadata": {},
   "outputs": [
    {
     "data": {
      "text/plain": [
       "21"
      ]
     },
     "execution_count": 14,
     "metadata": {},
     "output_type": "execute_result"
    }
   ],
   "source": [
    "next(f)"
   ]
  },
  {
   "cell_type": "code",
   "execution_count": 15,
   "id": "3a624d69-2e46-4a65-8924-54ca6b37555c",
   "metadata": {},
   "outputs": [
    {
     "data": {
      "text/plain": [
       "34"
      ]
     },
     "execution_count": 15,
     "metadata": {},
     "output_type": "execute_result"
    }
   ],
   "source": [
    "next(f)"
   ]
  },
  {
   "cell_type": "code",
   "execution_count": 16,
   "id": "6e58b397-8a00-492d-b351-f206786d688c",
   "metadata": {},
   "outputs": [
    {
     "name": "stdin",
     "output_type": "stream",
     "text": [
      "Enter the maximum exponent:  5\n"
     ]
    },
    {
     "name": "stdout",
     "output_type": "stream",
     "text": [
      "1 2 4 8 16 32 "
     ]
    }
   ],
   "source": [
    "# Q6:  Write a generator function in Python that yields the powers of 2 up to a given exponent.\n",
    "\n",
    "# code->\n",
    "\n",
    "# Function \n",
    "def power_of_two(max_exponent):\n",
    "    \"\"\"A generator function that yields powers of 2 up to the given exponent.\"\"\"\n",
    "    for exponent in range(max_exponent + 1):\n",
    "        yield 2 ** exponent\n",
    "\n",
    "# input the max no of exponent.\n",
    "max_exponent = int(input(\"Enter the maximum exponent: \"))\n",
    "\n",
    "# Function call and printing the resullt\n",
    "for power in power_of_two(max_exponent):\n",
    "    print(power, end=\" \") \n",
    "    # the result will be 1, 2, 4, 8, 16, 32, which are 2^0, 2^1, 2^2, 2^3, 2^4, 2^5 respectively. \n",
    "                          "
   ]
  },
  {
   "cell_type": "code",
   "execution_count": 25,
   "id": "33841290-b53b-4b85-bf88-c3e36548837c",
   "metadata": {},
   "outputs": [
    {
     "name": "stdout",
     "output_type": "stream",
     "text": [
      "Python is a high-level, general-purpose programming language.\n",
      "Its design philosophy emphasizes code readability with the use of significant indentation.\n",
      "Python is dynamically typed and garbage-collected. It supports multiple programming paradigms,\n",
      "including structured, object-oriented and functional programming.\n"
     ]
    }
   ],
   "source": [
    "# Q7:  Implement a generator function that reads a file line by line and yields each line as a string.\n",
    "\n",
    "# code->\n",
    "def read_file_lines(file_path):\n",
    "    \"\"\"Generator function to read a file line by line.\"\"\"\n",
    "    with open(file_path, 'r') as file:\n",
    "        for line in file:\n",
    "            yield line.strip()  # Remove any extra newlines or leading/trailing whitespace\n",
    "\n",
    "# Example usage:\n",
    "file_path = 'example.txt'\n",
    "\n",
    "for line in read_file_lines(file_path):\n",
    "    print(line)\n"
   ]
  },
  {
   "cell_type": "code",
   "execution_count": 20,
   "id": "ffff255b-0ba5-48ae-b67f-a2ed9846e853",
   "metadata": {},
   "outputs": [
    {
     "name": "stdout",
     "output_type": "stream",
     "text": [
      "[(3, 'apple'), (1, 'banana'), (2, 'cherry'), (4, 'date')]\n"
     ]
    }
   ],
   "source": [
    "# Q8: . Use a lambda function in Python to sort a list of tuples based on the second element of each tuple.\n",
    "\n",
    "# code->\n",
    "\n",
    "# Sample list of tuples\n",
    "tuples_list = [(1, 'banana'), (3, 'apple'), (2, 'cherry'), (4, 'date')]\n",
    "\n",
    "# Use the sort method with a lambda function to sort based on the second element\n",
    "tuples_list.sort(key=lambda x: x[1])\n",
    "\n",
    "# Print the sorted list\n",
    "print(tuples_list)\n",
    "\n",
    "\n"
   ]
  },
  {
   "cell_type": "code",
   "execution_count": 21,
   "id": "78578cbd-64cd-4cd2-84ee-203e18a306a6",
   "metadata": {},
   "outputs": [
    {
     "name": "stdin",
     "output_type": "stream",
     "text": [
      "Enter the no of element:  3\n",
      "Enter the temperature 24\n",
      "Enter the temperature 43\n",
      "Enter the temperature 56\n"
     ]
    },
    {
     "name": "stdout",
     "output_type": "stream",
     "text": [
      "The temp in Celsius:  [24.0, 43.0, 56.0]\n",
      "The temp in Fahrenheit:  [75.2, 109.4, 132.8]\n"
     ]
    }
   ],
   "source": [
    "# Q9: Write a Python program that uses `map()` to convert a list of temperatures from Celsius to Fahrenheit.\n",
    "\n",
    "# code->\n",
    "\n",
    "# Function to temp from cel to fah.\n",
    "def Cel_to_Fah(temp):\n",
    "         return (9/5 * temp) + 32\n",
    "\n",
    "# taking input of temp as list\n",
    "list_of_temp = []\n",
    "n = int(input(\"Enter the no of element: \"))\n",
    "for i in range(0, n):\n",
    "    temp = float(input(\"Enter the temperature\"))\n",
    "    list_of_temp.append(temp)\n",
    "print(\"The temp in Celsius: \",list_of_temp)\n",
    "\n",
    "# Function call and printing the result.\n",
    "temp_in_Fah = list(map(Cel_to_Fah, list_of_temp))\n",
    "print(\"The temp in Fahrenheit: \", temp_in_Fah)"
   ]
  },
  {
   "cell_type": "code",
   "execution_count": 22,
   "id": "707e9f17-03cd-4fb1-bcfb-5647ce241df2",
   "metadata": {},
   "outputs": [
    {
     "name": "stdin",
     "output_type": "stream",
     "text": [
      "Enter the string:  \"virat is my favorite player\"\n"
     ]
    },
    {
     "name": "stdout",
     "output_type": "stream",
     "text": [
      "\"vrt s my fvrt plyr\"\n"
     ]
    }
   ],
   "source": [
    "# Q10: Create a Python program that uses `filter()` to remove all the vowels from a given string.\n",
    "\n",
    "# code->\n",
    "\n",
    "# Function to remove vowel from inputed string.\n",
    "def remove_vowels(string):\n",
    "    vowels = \"aeiouAeiou\"\n",
    "    return ''.join(filter(lambda char: char not in vowels, string))\n",
    "\n",
    "string = input(\"Enter the string: \")\n",
    "\n",
    "# Function call and printing the result.\n",
    "result = remove_vowels(string)\n",
    "print(result)"
   ]
  },
  {
   "cell_type": "code",
   "execution_count": 23,
   "id": "5a907926-f67c-4dcb-8107-9b2ae0ef491e",
   "metadata": {},
   "outputs": [
    {
     "name": "stdout",
     "output_type": "stream",
     "text": [
      "[(34587, 163.8), (98762, 284.0), (77226, 108.85000000000001), (88112, 84.97)]\n"
     ]
    }
   ],
   "source": [
    "# Q11:  Imagine an accounting routine used in a book shop. It works on a list with sublists, which look like this:\n",
    "\n",
    "\n",
    "\n",
    "\n",
    "\n",
    "\n",
    "\n",
    "# Write a Python program, which returns a list with 2-tuples. Each tuple consists of the order number and the\n",
    "# product of the price per item and the quantity. The product should be increased by 10,- € if the value of the\n",
    "# order is smaller than 100,00 €.\n",
    "# Write a Python program using lambda and map\n",
    "\n",
    "\n",
    "# code->\n",
    "# List of orders\n",
    "orders = [\n",
    "    [34587, \"Learning Python, Mark Lutz\", 4, 40.95],\n",
    "    [98762, \"Programming Python, Mark Lutz\", 5, 56.80],\n",
    "    [77226, \"Head First Python, Paul Barry\", 3, 32.95],\n",
    "    [88112, \"Einführung in Python3, Bernd Klein\", 3, 24.99]\n",
    "]\n",
    "\n",
    "# Function to calculate the total price with the condition\n",
    "calculate_price = lambda order: (\n",
    "    order[0],  # Order number\n",
    "    order[2] * order[3] + 10 if order[2] * order[3] < 100 else order[2] * order[3]\n",
    ")\n",
    "\n",
    "# Use map to apply the lambda function to each order\n",
    "result = list(map(calculate_price, orders))\n",
    "\n",
    "# Print the result\n",
    "print(result)\n"
   ]
  },
  {
   "cell_type": "code",
   "execution_count": null,
   "id": "809d1db7-3f44-42b6-be2e-3736273d7a8a",
   "metadata": {},
   "outputs": [],
   "source": []
  }
 ],
 "metadata": {
  "kernelspec": {
   "display_name": "Python 3 (ipykernel)",
   "language": "python",
   "name": "python3"
  },
  "language_info": {
   "codemirror_mode": {
    "name": "ipython",
    "version": 3
   },
   "file_extension": ".py",
   "mimetype": "text/x-python",
   "name": "python",
   "nbconvert_exporter": "python",
   "pygments_lexer": "ipython3",
   "version": "3.10.8"
  }
 },
 "nbformat": 4,
 "nbformat_minor": 5
}
